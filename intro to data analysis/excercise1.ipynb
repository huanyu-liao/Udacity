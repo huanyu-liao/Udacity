{
 "cells": [
  {
   "cell_type": "code",
   "execution_count": 211,
   "metadata": {
    "collapsed": true
   },
   "outputs": [],
   "source": [
    "import unicodecsv"
   ]
  },
  {
   "cell_type": "code",
   "execution_count": 212,
   "metadata": {
    "collapsed": false
   },
   "outputs": [],
   "source": [
    "\n",
    "def read_csv(filename):\n",
    "    with open(filename,'rb') as f:\n",
    "        reader = unicodecsv.DictReader(f)\n",
    "        return list(reader)\n",
    "\n",
    "\n",
    "enrollments = read_csv('enrollments.csv')\n",
    "daily_engagement = read_csv('daily_engagement.csv')\n",
    "project_submissions = read_csv('project_submissions.csv')"
   ]
  },
  {
   "cell_type": "code",
   "execution_count": 213,
   "metadata": {
    "collapsed": false
   },
   "outputs": [
    {
     "data": {
      "text/plain": [
       "{'account_key': '448',\n",
       " 'cancel_date': '2015-01-14',\n",
       " 'days_to_cancel': '65',\n",
       " 'is_canceled': 'True',\n",
       " 'is_udacity': 'True',\n",
       " 'join_date': '2014-11-10',\n",
       " 'status': 'canceled'}"
      ]
     },
     "execution_count": 213,
     "metadata": {},
     "output_type": "execute_result"
    }
   ],
   "source": [
    "enrollments[0]"
   ]
  },
  {
   "cell_type": "code",
   "execution_count": 214,
   "metadata": {
    "collapsed": false
   },
   "outputs": [
    {
     "data": {
      "text/plain": [
       "{'acct': '0',\n",
       " 'lessons_completed': '0.0',\n",
       " 'num_courses_visited': '1.0',\n",
       " 'projects_completed': '0.0',\n",
       " 'total_minutes_visited': '11.6793745',\n",
       " 'utc_date': '2015-01-09'}"
      ]
     },
     "execution_count": 214,
     "metadata": {},
     "output_type": "execute_result"
    }
   ],
   "source": [
    "daily_engagement[0]"
   ]
  },
  {
   "cell_type": "code",
   "execution_count": 215,
   "metadata": {
    "collapsed": false
   },
   "outputs": [
    {
     "data": {
      "text/plain": [
       "{'account_key': '256',\n",
       " 'assigned_rating': 'UNGRADED',\n",
       " 'completion_date': '2015-01-16',\n",
       " 'creation_date': '2015-01-14',\n",
       " 'lesson_key': '3176718735',\n",
       " 'processing_state': 'EVALUATED'}"
      ]
     },
     "execution_count": 215,
     "metadata": {},
     "output_type": "execute_result"
    }
   ],
   "source": [
    "project_submissions[0]"
   ]
  },
  {
   "cell_type": "code",
   "execution_count": 216,
   "metadata": {
    "collapsed": false
   },
   "outputs": [],
   "source": [
    "import datetime\n",
    "\n",
    "def parse_maybe_int(data):\n",
    "    if data == '':\n",
    "        return None\n",
    "    return int(float(data))\n",
    "\n",
    "def parse_boolean(data):\n",
    "    if data == '':\n",
    "        return None\n",
    "    if data == 'True':\n",
    "        return True\n",
    "    else:\n",
    "        return False\n",
    "    \n",
    "def parse_Datetime(data):\n",
    "    if data == '':\n",
    "        return None\n",
    "    else:\n",
    "        return datetime.datetime.strptime(data, \"%Y-%m-%d\")\n",
    "    \n",
    "for enrollment in enrollments:\n",
    "    enrollment['cancel_date'] = parse_Datetime(enrollment['cancel_date'])\n",
    "    enrollment['days_to_cancel'] = parse_maybe_int(enrollment['days_to_cancel'])\n",
    "    enrollment['is_canceled'] = parse_boolean(enrollment['is_canceled'])\n",
    "    enrollment['is_udacity'] = parse_boolean(enrollment['is_udacity'])\n",
    "    enrollment['join_date'] = parse_Datetime(enrollment['join_date'])\n",
    "    \n",
    "for engagement in daily_engagement:\n",
    "    engagement['lessons_completed'] = parse_maybe_int(engagement['lessons_completed'])\n",
    "    engagement['num_courses_visited'] = parse_maybe_int(engagement['num_courses_visited'])\n",
    "    engagement['projects_completed'] = parse_maybe_int(engagement['projects_completed'])\n",
    "    engagement['total_minutes_visited'] = float(engagement['total_minutes_visited'])\n",
    "    engagement['utc_date'] = parse_Datetime(engagement['utc_date'])\n",
    "    \n",
    "for submission in project_submissions:\n",
    "    submission['completion_date'] = parse_Datetime(submission['completion_date'])\n",
    "    submission['creation_date'] = parse_Datetime(submission['creation_date'])\n",
    "    "
   ]
  },
  {
   "cell_type": "code",
   "execution_count": 217,
   "metadata": {
    "collapsed": false
   },
   "outputs": [],
   "source": [
    "for engagement_record in daily_engagement:\n",
    "    engagement_record['account_key'] = engagement_record['acct']\n",
    "    del engagement_record['acct']\n",
    "    \n"
   ]
  },
  {
   "cell_type": "code",
   "execution_count": 218,
   "metadata": {
    "collapsed": true
   },
   "outputs": [],
   "source": [
    "def get_unique_students(data):\n",
    "    unique_students = set()\n",
    "    for record in data:\n",
    "        unique_students.add(record['account_key'])\n",
    "    return unique_students"
   ]
  },
  {
   "cell_type": "code",
   "execution_count": 219,
   "metadata": {
    "collapsed": false
   },
   "outputs": [],
   "source": [
    "unique_enrollments_students = get_unique_students(enrollments)\n",
    "unique_engagement_students =  get_unique_students(daily_engagement)\n",
    "unique_submissions_students = get_unique_students(project_submissions)\n"
   ]
  },
  {
   "cell_type": "code",
   "execution_count": 220,
   "metadata": {
    "collapsed": false
   },
   "outputs": [
    {
     "name": "stdout",
     "output_type": "stream",
     "text": [
      "unique enrollments students: 1302\n",
      "unique engagement students: 1237\n",
      "unique submissions students: 743\n"
     ]
    }
   ],
   "source": [
    "print('unique enrollments students: %d' %(len(unique_enrollments_students)))\n",
    "print('unique engagement students: %d' %(len(unique_engagement_students)))\n",
    "print('unique submissions students: %d' %(len(unique_submissions_students)))"
   ]
  },
  {
   "cell_type": "code",
   "execution_count": 221,
   "metadata": {
    "collapsed": false
   },
   "outputs": [
    {
     "name": "stdout",
     "output_type": "stream",
     "text": [
      "{'days_to_cancel': 59, 'join_date': datetime.datetime(2015, 1, 10, 0, 0), 'is_udacity': True, 'cancel_date': datetime.datetime(2015, 3, 10, 0, 0), 'status': 'canceled', 'account_key': '1304', 'is_canceled': True}\n",
      "{'days_to_cancel': 99, 'join_date': datetime.datetime(2015, 3, 10, 0, 0), 'is_udacity': True, 'cancel_date': datetime.datetime(2015, 6, 17, 0, 0), 'status': 'canceled', 'account_key': '1304', 'is_canceled': True}\n",
      "{'days_to_cancel': None, 'join_date': datetime.datetime(2015, 2, 25, 0, 0), 'is_udacity': True, 'cancel_date': None, 'status': 'current', 'account_key': '1101', 'is_canceled': False}\n",
      "3\n"
     ]
    }
   ],
   "source": [
    "num_problem_student = 0;\n",
    "for enrollment in enrollments:\n",
    "    student = enrollment['account_key']\n",
    "    if (student not in unique_engagement_students and enrollment['join_date'] != enrollment['cancel_date']):\n",
    "        print(enrollment)\n",
    "        num_problem_student += 1\n",
    "\n",
    "print(num_problem_student)"
   ]
  },
  {
   "cell_type": "code",
   "execution_count": 222,
   "metadata": {
    "collapsed": false
   },
   "outputs": [
    {
     "data": {
      "text/plain": [
       "6"
      ]
     },
     "execution_count": 222,
     "metadata": {},
     "output_type": "execute_result"
    }
   ],
   "source": [
    "udacity_test_accout = set()\n",
    "for enrollment in enrollments:\n",
    "    if enrollment['is_udacity']:\n",
    "        udacity_test_accout.add(enrollment['account_key'])\n",
    "len(udacity_test_accout)"
   ]
  },
  {
   "cell_type": "code",
   "execution_count": 223,
   "metadata": {
    "collapsed": false
   },
   "outputs": [],
   "source": [
    "def remove_udacity_account(data):\n",
    "    non_udacity_account = []\n",
    "    for record in data:\n",
    "        if record['account_key'] not in udacity_test_accout:\n",
    "            non_udacity_account.append(record)\n",
    "    return non_udacity_account\n",
    "\n"
   ]
  },
  {
   "cell_type": "code",
   "execution_count": 224,
   "metadata": {
    "collapsed": false
   },
   "outputs": [],
   "source": [
    "non_udacity_enrollments = remove_udacity_account(enrollments)\n",
    "non_udacity_daily_engagement = remove_udacity_account(daily_engagement)\n",
    "non_udacity_project_submissions = remove_udacity_account(project_submissions)"
   ]
  },
  {
   "cell_type": "code",
   "execution_count": 225,
   "metadata": {
    "collapsed": false
   },
   "outputs": [
    {
     "name": "stdout",
     "output_type": "stream",
     "text": [
      "1622\n",
      "135656\n",
      "3634\n"
     ]
    }
   ],
   "source": [
    "print(len(non_udacity_enrollment))\n",
    "print(len(non_udacity_daily_engagement))\n",
    "print(len(non_udacity_project_submissions))"
   ]
  },
  {
   "cell_type": "code",
   "execution_count": 226,
   "metadata": {
    "collapsed": false
   },
   "outputs": [
    {
     "data": {
      "text/plain": [
       "995"
      ]
     },
     "execution_count": 226,
     "metadata": {},
     "output_type": "execute_result"
    }
   ],
   "source": [
    "paid_students = {}\n",
    "for enrollment in non_udacity_enrollments:\n",
    "    if (not enrollment['is_canceled'] or\n",
    "            enrollment['days_to_cancel'] > 7):\n",
    "        account_key = enrollment['account_key']\n",
    "        enrollment_date = enrollment['join_date']\n",
    "        if (account_key not in paid_students or\n",
    "                enrollment_date > paid_students[account_key]):\n",
    "            paid_students[account_key] = enrollment_date\n",
    "len(paid_students)"
   ]
  },
  {
   "cell_type": "code",
   "execution_count": 227,
   "metadata": {
    "collapsed": false
   },
   "outputs": [
    {
     "data": {
      "text/plain": [
       "{'account_key': '700',\n",
       " 'cancel_date': datetime.datetime(2014, 11, 16, 0, 0),\n",
       " 'days_to_cancel': 6,\n",
       " 'is_canceled': True,\n",
       " 'is_udacity': False,\n",
       " 'join_date': datetime.datetime(2014, 11, 10, 0, 0),\n",
       " 'status': 'canceled'}"
      ]
     },
     "execution_count": 227,
     "metadata": {},
     "output_type": "execute_result"
    }
   ],
   "source": [
    "non_udacity_enrollment[0]"
   ]
  },
  {
   "cell_type": "code",
   "execution_count": 278,
   "metadata": {
    "collapsed": true
   },
   "outputs": [],
   "source": [
    "def within_one_week(join_date, engagement_date):\n",
    "    time_delta = engagement_date - join_date\n",
    "    return time_delta.days < 7 and time_delta.days >=0 \n",
    "\n",
    "def remove_free_trial_cancels(data):\n",
    "    new_data = []\n",
    "    for data_point in data:\n",
    "        if data_point['account_key'] in paid_students:\n",
    "            new_data.append(data_point)\n",
    "    return new_data\n",
    "\n"
   ]
  },
  {
   "cell_type": "code",
   "execution_count": 279,
   "metadata": {
    "collapsed": false
   },
   "outputs": [
    {
     "name": "stdout",
     "output_type": "stream",
     "text": [
      "1293\n",
      "134549\n",
      "3618\n"
     ]
    }
   ],
   "source": [
    "paid_enrollments = remove_free_trial_cancels(non_udacity_enrollments)\n",
    "paid_engagement = remove_free_trial_cancels(non_udacity_daily_engagement)\n",
    "paid_submissions = remove_free_trial_cancels(non_udacity_project_submissions)\n",
    "\n",
    "print(len(paid_enrollments))\n",
    "print (len(paid_engagement))\n",
    "print (len(paid_submissions))"
   ]
  },
  {
   "cell_type": "code",
   "execution_count": 280,
   "metadata": {
    "collapsed": false
   },
   "outputs": [
    {
     "data": {
      "text/plain": [
       "6919"
      ]
     },
     "execution_count": 280,
     "metadata": {},
     "output_type": "execute_result"
    }
   ],
   "source": [
    "paid_engagement_in_first_week = []\n",
    "for engagement_record in paid_engagement:\n",
    "    account_key = engagement_record['account_key']\n",
    "    join_date = paid_students[account_key]\n",
    "    engagement_record_date = engagement_record['utc_date']\n",
    "\n",
    "    if within_one_week(join_date, engagement_record_date):\n",
    "        paid_engagement_in_first_week.append(engagement_record)\n",
    "\n",
    "len(paid_engagement_in_first_week)"
   ]
  },
  {
   "cell_type": "code",
   "execution_count": 281,
   "metadata": {
    "collapsed": false
   },
   "outputs": [
    {
     "data": {
      "text/plain": [
       "{'account_key': '0',\n",
       " 'lessons_completed': 0,\n",
       " 'num_courses_visited': 1,\n",
       " 'projects_completed': 0,\n",
       " 'total_minutes_visited': 11.6793745,\n",
       " 'utc_date': datetime.datetime(2015, 1, 9, 0, 0)}"
      ]
     },
     "execution_count": 281,
     "metadata": {},
     "output_type": "execute_result"
    }
   ],
   "source": [
    "paid_engagement_in_first_week[0]"
   ]
  },
  {
   "cell_type": "code",
   "execution_count": 282,
   "metadata": {
    "collapsed": false
   },
   "outputs": [],
   "source": [
    "from collections import defaultdict\n",
    "engagement_by_account = defaultdict(list)\n",
    "\n",
    "for engagement in paid_engagement_in_first_week:\n",
    "    key = engagement['account_key']\n",
    "    engagement_by_account[key].append(engagement)\n",
    "    \n",
    "    "
   ]
  },
  {
   "cell_type": "code",
   "execution_count": 283,
   "metadata": {
    "collapsed": true
   },
   "outputs": [],
   "source": [
    "total_minutes_by_account = {}\n",
    "\n",
    "for accout_key, engagement_for_student in engagement_by_account.items():\n",
    "    total = 0\n",
    "    for engagement in engagement_for_student:\n",
    "        total += engagement['total_minutes_visited']\n",
    "    total_minutes_by_account[accout_key] = total"
   ]
  },
  {
   "cell_type": "code",
   "execution_count": 284,
   "metadata": {
    "collapsed": false
   },
   "outputs": [
    {
     "name": "stdout",
     "output_type": "stream",
     "text": [
      "Mean: 306.708326753\n",
      "std: 412.996933409\n",
      "min: 0.0\n",
      "max: 3564.7332645\n"
     ]
    }
   ],
   "source": [
    "total_minutes = list(total_minutes_by_account.values())\n",
    "sum(total_minutes)/len(total_minutes)\n",
    "\n",
    "import numpy as np\n",
    "print('Mean:', np.mean(total_minutes))\n",
    "print('std:', np.std(total_minutes))\n",
    "print('min:', np.min(total_minutes))\n",
    "print('max:', np.max(total_minutes))"
   ]
  },
  {
   "cell_type": "code",
   "execution_count": 285,
   "metadata": {
    "collapsed": false
   },
   "outputs": [
    {
     "name": "stdout",
     "output_type": "stream",
     "text": [
      "{'num_courses_visited': 4, 'total_minutes_visited': 850.519339666, 'account_key': '163', 'utc_date': datetime.datetime(2015, 7, 9, 0, 0), 'projects_completed': 0, 'lessons_completed': 4}\n",
      "{'num_courses_visited': 6, 'total_minutes_visited': 872.633923334, 'account_key': '163', 'utc_date': datetime.datetime(2015, 7, 10, 0, 0), 'projects_completed': 0, 'lessons_completed': 6}\n",
      "{'num_courses_visited': 2, 'total_minutes_visited': 777.018903666, 'account_key': '163', 'utc_date': datetime.datetime(2015, 7, 11, 0, 0), 'projects_completed': 0, 'lessons_completed': 6}\n",
      "{'num_courses_visited': 1, 'total_minutes_visited': 294.568774, 'account_key': '163', 'utc_date': datetime.datetime(2015, 7, 12, 0, 0), 'projects_completed': 0, 'lessons_completed': 2}\n",
      "{'num_courses_visited': 3, 'total_minutes_visited': 471.2139785, 'account_key': '163', 'utc_date': datetime.datetime(2015, 7, 13, 0, 0), 'projects_completed': 0, 'lessons_completed': 1}\n",
      "{'num_courses_visited': 2, 'total_minutes_visited': 298.778345333, 'account_key': '163', 'utc_date': datetime.datetime(2015, 7, 14, 0, 0), 'projects_completed': 0, 'lessons_completed': 1}\n",
      "{'num_courses_visited': 0, 'total_minutes_visited': 0.0, 'account_key': '163', 'utc_date': datetime.datetime(2015, 7, 15, 0, 0), 'projects_completed': 0, 'lessons_completed': 0}\n"
     ]
    }
   ],
   "source": [
    "student_with_max_minutes = max(total_minutes_by_account.items(), key=lambda pair: pair[1])\n",
    "s = None   \n",
    "for d in paid_engagement_in_first_week:\n",
    "    if d['account_key'] == student_with_max_minutes[0]:\n",
    "        print(d)\n",
    "        s=d\n",
    "    "
   ]
  },
  {
   "cell_type": "code",
   "execution_count": 288,
   "metadata": {
    "collapsed": false
   },
   "outputs": [
    {
     "data": {
      "text/plain": [
       "datetime.datetime(2015, 7, 9, 0, 0)"
      ]
     },
     "execution_count": 288,
     "metadata": {},
     "output_type": "execute_result"
    }
   ],
   "source": [
    "paid_students['163']"
   ]
  },
  {
   "cell_type": "code",
   "execution_count": 287,
   "metadata": {
    "collapsed": false
   },
   "outputs": [
    {
     "data": {
      "text/plain": [
       "False"
      ]
     },
     "execution_count": 287,
     "metadata": {},
     "output_type": "execute_result"
    }
   ],
   "source": [
    "within_one_week(paid_students['108'], s['utc_date'])"
   ]
  },
  {
   "cell_type": "code",
   "execution_count": null,
   "metadata": {
    "collapsed": true
   },
   "outputs": [],
   "source": []
  }
 ],
 "metadata": {
  "anaconda-cloud": {},
  "kernelspec": {
   "display_name": "Python [conda root]",
   "language": "python",
   "name": "conda-root-py"
  },
  "language_info": {
   "codemirror_mode": {
    "name": "ipython",
    "version": 3
   },
   "file_extension": ".py",
   "mimetype": "text/x-python",
   "name": "python",
   "nbconvert_exporter": "python",
   "pygments_lexer": "ipython3",
   "version": "3.5.2"
  }
 },
 "nbformat": 4,
 "nbformat_minor": 1
}
